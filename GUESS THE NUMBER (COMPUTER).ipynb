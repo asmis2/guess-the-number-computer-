{
 "cells": [
  {
   "cell_type": "code",
   "execution_count": null,
   "metadata": {},
   "outputs": [
    {
     "name": "stdout",
     "output_type": "stream",
     "text": [
      "Guess a number between 1 and 100: 80\n",
      "Sorry , Guess again. Too high!\n",
      "Guess a number between 1 and 100: 60\n",
      "Sorry , Guess again. Too high!\n",
      "Guess a number between 1 and 100: 40\n",
      "Sorry , Guess again. Too high!\n"
     ]
    }
   ],
   "source": [
    "import random\n",
    "\n",
    "def guess(x):\n",
    "    random_number = random.randint(1,x)\n",
    "    guess = 0\n",
    "    while guess != random_number :\n",
    "        guess = int(input(f\"Guess a number between 1 and {x}: \"))\n",
    "        \n",
    "        if guess < random_number :\n",
    "            print(\"Sorry,Guess again. Too low!\")\n",
    "        elif guess > random_number :\n",
    "            print (\"Sorry , Guess again. Too high!\")\n",
    "            \n",
    "    print(f\"Yay!..Congratulations.. You guessed the number {random_number} correctly!!!\")  \n",
    "    \n",
    "guess(100)    \n",
    "            \n",
    "            "
   ]
  },
  {
   "cell_type": "code",
   "execution_count": null,
   "metadata": {},
   "outputs": [],
   "source": []
  }
 ],
 "metadata": {
  "kernelspec": {
   "display_name": "Python 3",
   "language": "python",
   "name": "python3"
  },
  "language_info": {
   "codemirror_mode": {
    "name": "ipython",
    "version": 3
   },
   "file_extension": ".py",
   "mimetype": "text/x-python",
   "name": "python",
   "nbconvert_exporter": "python",
   "pygments_lexer": "ipython3",
   "version": "3.7.9"
  }
 },
 "nbformat": 4,
 "nbformat_minor": 4
}
